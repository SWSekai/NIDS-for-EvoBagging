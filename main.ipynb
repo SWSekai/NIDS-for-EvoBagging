{
 "cells": [
  {
   "cell_type": "code",
   "execution_count": 53,
   "id": "9e8fa143",
   "metadata": {},
   "outputs": [],
   "source": [
    "import pandas as pd"
   ]
  },
  {
   "cell_type": "code",
   "execution_count": 54,
   "id": "0c57a3cb",
   "metadata": {},
   "outputs": [],
   "source": [
    "def check_dataset(dataset, mode='shape'):\n",
    "    if mode == 'info':\n",
    "        print(dataset.info())\n",
    "    elif mode == 'head':\n",
    "        print(dataset.head())\n",
    "    elif mode == 'shape':\n",
    "        print(f\"{dataset.shape}\")\n",
    "    else:\n",
    "        raise ValueError(\"Invalid mode. Use 'info', 'head' or 'shape'.\")"
   ]
  },
  {
   "cell_type": "code",
   "execution_count": 55,
   "id": "32418584",
   "metadata": {},
   "outputs": [],
   "source": [
    "# one-hot encoding\n",
    "\n",
    "def one_hot_encoding(data):\n",
    "    non_numerial_columns = ['protocol_type', 'service', 'flag']\n",
    "    data_encoded = pd.get_dummies(data, columns=non_numerial_columns, drop_first=True, dtype=int) # drop first: 忽略資料標題\n",
    "    \n",
    "    return data_encoded"
   ]
  },
  {
   "cell_type": "code",
   "execution_count": 56,
   "id": "9d471e46",
   "metadata": {},
   "outputs": [],
   "source": [
    "# Normalization\n",
    "\n",
    "from sklearn.preprocessing import MinMaxScaler\n",
    "\n",
    "def normalization(data):\n",
    "    scaler = MinMaxScaler()\n",
    "    \n",
    "    features = data.drop(columns=['label'])\n",
    "    \n",
    "    feature_encoded = pd.DataFrame(scaler.fit_transform(features),\n",
    "                                   columns=features.columns,\n",
    "                                   index=features.index)\n",
    "    \n",
    "    data = pd.concat([feature_encoded, data['label']], axis=1)\n",
    "    \n",
    "    return data"
   ]
  },
  {
   "cell_type": "code",
   "execution_count": 57,
   "id": "d52e5b18",
   "metadata": {},
   "outputs": [],
   "source": [
    "def change_label(df):\n",
    "    \"\"\"\n",
    "        將 label 轉換成 5 類別：\n",
    "        DoS, R2L, Probe, U2R, Normal\n",
    "    \"\"\"\n",
    "    df = df.copy()\n",
    "    \n",
    "    df['label'] = df.label.replace([\n",
    "        'apache2','back','land','neptune','mailbomb','pod','processtable',\n",
    "        'smurf','teardrop','udpstorm','worm'\n",
    "    ], 'DoS')\n",
    "\n",
    "    df['label'] = df.label.replace([\n",
    "        'ftp_write','guess_passwd','httptunnel','imap','multihop','named',\n",
    "        'phf','sendmail','snmpgetattack','snmpguess','spy','warezclient',\n",
    "        'warezmaster','xlock','xsnoop'\n",
    "    ], 'R2L')      \n",
    "\n",
    "    df['label'] = df.label.replace([\n",
    "        'ipsweep','mscan','nmap','portsweep','saint','satan'\n",
    "    ], 'Probe')\n",
    "\n",
    "    df['label'] = df.label.replace([\n",
    "        'buffer_overflow','loadmodule','perl','ps','rootkit','sqlattack','xterm'\n",
    "    ], 'U2R')\n",
    "\n",
    "    # 其餘未列入的視為 'Normal'\n",
    "    df['label'] = df.label.where(df.label.isin(['DoS', 'R2L', 'Probe', 'U2R']), 'Normal')\n",
    "    \n",
    "    return df\n"
   ]
  },
  {
   "cell_type": "code",
   "execution_count": 58,
   "id": "2f0ecfde",
   "metadata": {},
   "outputs": [],
   "source": [
    "import matplotlib.pyplot as plt\n",
    "\n",
    "def label_distribution(data1, data2):\n",
    "    \"\"\"\n",
    "        繪製資料集的標籤分佈圖\n",
    "    \"\"\"\n",
    "    data1_counts = data1['label'].value_counts()\n",
    "    data2_counts = data2['label'].value_counts()\n",
    "    \n",
    "    combined  = pd.DataFrame({\n",
    "        'Train': data1_counts,\n",
    "        'Test': data2_counts\n",
    "    }).fillna(0) # 若某些 label 在其中一個資料集中缺少，填 0\n",
    "    \n",
    "    # 自訂排序\n",
    "    order = ['Normal', 'DoS', 'Probe', 'R2L', 'U2R']\n",
    "    \n",
    "    combined = combined.reindex(order)\n",
    "    \n",
    "    # 繪製圖形\n",
    "    combined.plot(kind='bar', figsize=(12, 6))\n",
    "    plt.title('NSL-KDD Train vs Test Label Distribution')\n",
    "    plt.xlabel('Label')\n",
    "    plt.ylabel('Count')\n",
    "    plt.xticks(rotation=45) \n",
    "    plt.legend(title='Dataset')\n",
    "    plt.tight_layout()\n",
    "    plt.show()"
   ]
  },
  {
   "cell_type": "code",
   "execution_count": 59,
   "id": "c57cada1",
   "metadata": {},
   "outputs": [],
   "source": [
    "columns = (['duration'\n",
    ",'protocol_type'\n",
    ",'service'\n",
    ",'flag'\n",
    ",'src_bytes'\n",
    ",'dst_bytes'\n",
    ",'land'\n",
    ",'wrong_fragment'\n",
    ",'urgent'\n",
    ",'hot'\n",
    ",'num_failed_logins'\n",
    ",'logged_in'\n",
    ",'num_compromised'\n",
    ",'root_shell'\n",
    ",'su_attempted'\n",
    ",'num_root'\n",
    ",'num_file_creations'\n",
    ",'num_shells'\n",
    ",'num_access_files'\n",
    ",'num_outbound_cmds'\n",
    ",'is_host_login'\n",
    ",'is_guest_login'\n",
    ",'count'\n",
    ",'srv_count'\n",
    ",'serror_rate'\n",
    ",'srv_serror_rate'\n",
    ",'rerror_rate'\n",
    ",'srv_rerror_rate'\n",
    ",'same_srv_rate'\n",
    ",'diff_srv_rate'\n",
    ",'srv_diff_host_rate'\n",
    ",'dst_host_count'\n",
    ",'dst_host_srv_count'\n",
    ",'dst_host_same_srv_rate'\n",
    ",'dst_host_diff_srv_rate'\n",
    ",'dst_host_same_src_port_rate'\n",
    ",'dst_host_srv_diff_host_rate'\n",
    ",'dst_host_serror_rate'\n",
    ",'dst_host_srv_serror_rate'\n",
    ",'dst_host_rerror_rate'\n",
    ",'dst_host_srv_rerror_rate'\n",
    ",'label'\n",
    ",'level'])\n"
   ]
  },
  {
   "cell_type": "code",
   "execution_count": 60,
   "id": "5f06feae",
   "metadata": {},
   "outputs": [
    {
     "name": "stdout",
     "output_type": "stream",
     "text": [
      "(125972, 42)\n",
      "(22542, 42)\n"
     ]
    }
   ],
   "source": [
    "# 載入NSL-KDD資料集\n",
    "\n",
    "# 訓練資料集讀取\n",
    "train_dataset = pd.read_csv('C:/Users/hansc/OneDrive/School/專題製作/Code/NSL-KDD Dataset/KDDTrain+.csv', encoding='utf-8')\n",
    "train_dataset.columns = columns\n",
    "train_dataset = train_dataset.drop(columns=['level']) # 去除 level 欄位\n",
    "train_dataset_header = list(train_dataset.columns) \n",
    "train_dataset = pd.DataFrame(data=train_dataset, columns=train_dataset_header)\n",
    "\n",
    "# 測試資料集讀取\n",
    "test_dataset = pd.read_csv('C:/Users/hansc/OneDrive/School/專題製作/Code/NSL-KDD Dataset/KDDTest+.csv', encoding='utf-8')\n",
    "test_dataset.columns = columns\n",
    "test_dataset = test_dataset.drop(columns=['level']) # 去除 level 欄位\n",
    "test_dataset_header = list(test_dataset.columns)\n",
    "test_dataset = pd.DataFrame(data=test_dataset, columns=test_dataset_header)\n",
    "\n",
    "check_dataset(train_dataset)\n",
    "check_dataset(test_dataset)"
   ]
  },
  {
   "cell_type": "code",
   "execution_count": 61,
   "id": "2c393e06",
   "metadata": {},
   "outputs": [
    {
     "name": "stdout",
     "output_type": "stream",
     "text": [
      "(125972, 120)\n",
      "(22542, 113)\n"
     ]
    }
   ],
   "source": [
    "train_dataset = one_hot_encoding(train_dataset)\n",
    "test_dataset = one_hot_encoding(test_dataset)\n",
    "\n",
    "check_dataset(train_dataset)\n",
    "check_dataset(test_dataset)"
   ]
  },
  {
   "cell_type": "code",
   "execution_count": 62,
   "id": "2ed33732",
   "metadata": {},
   "outputs": [],
   "source": [
    "# Normalization\n",
    "\n",
    "train_dataset = normalization(train_dataset)\n",
    "test_dataset = normalization(test_dataset)"
   ]
  },
  {
   "cell_type": "code",
   "execution_count": 63,
   "id": "75f267f2",
   "metadata": {},
   "outputs": [
    {
     "data": {
      "image/png": "[encoded data removed]",
      "text/plain": [
       "<Figure size 1200x600 with 1 Axes>"
      ]
     },
     "metadata": {},
     "output_type": "display_data"
    }
   ],
   "source": [
    "# Label Change\n",
    "import matplotlib.pyplot as plt\n",
    "\n",
    "train_dataset = change_label(train_dataset)\n",
    "test_dataset = change_label(test_dataset)\n",
    "\n",
    "label_distribution(train_dataset, test_dataset)"
   ]
  },
  {
   "cell_type": "code",
   "execution_count": 64,
   "id": "cbc39ccd",
   "metadata": {},
   "outputs": [
    {
     "data": {
      "image/png": "[encoded data removed]",
      "text/plain": [
       "<Figure size 1200x600 with 1 Axes>"
      ]
     },
     "metadata": {},
     "output_type": "display_data"
    }
   ],
   "source": [
    "# Drop Normal data\n",
    "\n",
    "train_dataset = train_dataset[train_dataset['label'] != 'Normal']\n",
    "test_dataset = test_dataset[test_dataset['label'] != 'Normal']\n",
    "\n",
    "label_distribution(train_dataset, test_dataset)"
   ]
  },
  {
   "cell_type": "code",
   "execution_count": 65,
   "id": "be1ee527",
   "metadata": {},
   "outputs": [],
   "source": [
    "# 訓練的題目與答案\n",
    "X_train = train_dataset.drop(columns=['label']) \n",
    "Y_train = train_dataset['label'] \n",
    "\n",
    "# 測試的題目與答案\n",
    "X_test = test_dataset.drop(columns=['label']) \n",
    "Y_test = test_dataset['label'] "
   ]
  },
  {
   "cell_type": "code",
   "execution_count": null,
   "id": "79025964",
   "metadata": {},
   "outputs": [
    {
     "data": {
      "text/plain": [
       "DoS      45927\n",
       "R2L      45925\n",
       "U2R      45924\n",
       "Probe    45905\n",
       "Name: count, dtype: int64"
      ]
     },
     "execution_count": 66,
     "metadata": {},
     "output_type": "execute_result"
    }
   ],
   "source": [
    "from imblearn.over_sampling import ADASYN\n",
    "from sklearn.preprocessing import LabelEncoder\n",
    "\n",
    "train_dataset_distribution_before = train_dataset['label'].value_counts()\n",
    "\n",
    "oversampler = ADASYN() # sampling_strategy: 欲平衡的類別比例, random_state: 隨機種子, n_neighbors: 近鄰數量\n",
    "label_encoder = LabelEncoder()\n",
    "\n",
    "Y_train_encoded = label_encoder.fit_transform(Y_train) \n",
    "Y_test_encoded = label_encoder.transform(Y_test)\n",
    "\n",
    "X_train, Y_train = oversampler.fit_resample(X_train, Y_train_encoded) # 進行過採樣\n",
    "\n",
    "resampled_attack_labels = label_encoder.inverse_transform(Y_train) # 將編碼的標籤轉回原始標籤\n",
    "pd.Series(resampled_attack_labels).value_counts()\n",
    "\n"
   ]
  },
  {
   "cell_type": "code",
   "execution_count": 67,
   "id": "667edfe4",
   "metadata": {},
   "outputs": [
    {
     "data": {
      "image/png": "[encoded data removed]",
      "text/plain": [
       "<Figure size 1200x600 with 1 Axes>"
      ]
     },
     "metadata": {},
     "output_type": "display_data"
    }
   ],
   "source": [
    "pd.Series(resampled_attack_labels).value_counts().plot(kind='bar', figsize=(12, 6))\n",
    "plt.title('Attack Distribution After ADASYN Sampling')\n",
    "plt.xlabel('Attack Type')\n",
    "plt.ylabel('Count')\n",
    "plt.xticks(rotation=45)\n",
    "plt.show()\n",
    "# label_distribution(resampled_attack_labels) # 繪製過採樣後的標籤分佈圖"
   ]
  },
  {
   "cell_type": "code",
   "execution_count": 68,
   "id": "22dd8c50",
   "metadata": {},
   "outputs": [],
   "source": [
    "# from imblearn.under_sampling import TomekLinks\n",
    "\n",
    "# undersampler = TomekLinks(sampling_strategy='majority', random_state=42)"
   ]
  },
  {
   "cell_type": "code",
   "execution_count": null,
   "id": "22ff3529",
   "metadata": {},
   "outputs": [
    {
     "name": "stdout",
     "output_type": "stream",
     "text": [
      "183681\n",
      "137760\n"
     ]
    }
   ],
   "source": [
    "#傳入參數\n",
    "\n",
    "\n",
    "#總資料筆數\n",
    "row_num = X_train.shape[0]\n",
    "max_initial_size = int(row_num * 3/4)\n",
    "\n",
    "print(row_num)\n",
    "print(max_initial_size)"
   ]
  },
  {
   "cell_type": "code",
   "execution_count": null,
   "id": "d718011a",
   "metadata": {},
   "outputs": [],
   "source": [
    "from evobagging_methods import *\n",
    "\n",
    "bag = EvoBagging(\n",
    "    X_train=X_train,\n",
    "    y_train=Y_train,\n",
    "    n_select= 0, # 每一代選擇的袋子數量\n",
    "    n_new_bags= 0, # 每一代新增的袋子數量\n",
    "    max_initial_size= max_initial_size, # 初始袋子大小\n",
    "    n_crossover= 0, # 每一代交配的袋子數量\n",
    "    n_mutation= 0, # 每一代突變的袋子數量\n",
    "    size_coef= 0, # 袋子大小係數\n",
    "    metric= 'accuracy', # 評估指標\n",
    "    procs= 1, # 使用的處理器數量\n",
    ")"
   ]
  },
  {
   "cell_type": "code",
   "execution_count": null,
   "id": "db550a5f",
   "metadata": {},
   "outputs": [
    {
     "name": "stdout",
     "output_type": "stream",
     "text": [
      "   duration  src_bytes  dst_bytes  land  wrong_fragment  urgent  hot  \\\n",
      "1       0.0        0.0        0.0   0.0             0.0     0.0  0.0   \n",
      "4       0.0        0.0        0.0   0.0             0.0     0.0  0.0   \n",
      "5       0.0        0.0        0.0   0.0             0.0     0.0  0.0   \n",
      "6       0.0        0.0        0.0   0.0             0.0     0.0  0.0   \n",
      "7       0.0        0.0        0.0   0.0             0.0     0.0  0.0   \n",
      "\n",
      "   num_failed_logins  logged_in  num_compromised  ...  flag_RSTO  flag_RSTOS0  \\\n",
      "1                0.0        0.0              0.0  ...        0.0          0.0   \n",
      "4                0.0        0.0              0.0  ...        0.0          0.0   \n",
      "5                0.0        0.0              0.0  ...        0.0          0.0   \n",
      "6                0.0        0.0              0.0  ...        0.0          0.0   \n",
      "7                0.0        0.0              0.0  ...        0.0          0.0   \n",
      "\n",
      "   flag_RSTR  flag_S0  flag_S1  flag_S2  flag_S3  flag_SF  flag_SH  label  \n",
      "1        0.0      1.0      0.0      0.0      0.0      0.0      0.0    DoS  \n",
      "4        0.0      0.0      0.0      0.0      0.0      0.0      0.0    DoS  \n",
      "5        0.0      1.0      0.0      0.0      0.0      0.0      0.0    DoS  \n",
      "6        0.0      1.0      0.0      0.0      0.0      0.0      0.0    DoS  \n",
      "7        0.0      1.0      0.0      0.0      0.0      0.0      0.0    DoS  \n",
      "\n",
      "[5 rows x 120 columns]\n"
     ]
    }
   ],
   "source": [
    "check_dataset(train_dataset, mode='head')"
   ]
  },
  {
   "cell_type": "code",
   "execution_count": null,
   "id": "f8d54b93",
   "metadata": {},
   "outputs": [
    {
     "name": "stdout",
     "output_type": "stream",
     "text": [
      "   duration     src_bytes  dst_bytes  land  wrong_fragment  urgent  hot  \\\n",
      "0  0.000000  0.000000e+00   0.000000   0.0             0.0     0.0  0.0   \n",
      "2  0.000000  3.183413e-07   0.000000   0.0             0.0     0.0  0.0   \n",
      "3  0.000017  0.000000e+00   0.000011   0.0             0.0     0.0  0.0   \n",
      "6  0.000000  2.053302e-06   0.000129   0.0             0.0     0.0  0.0   \n",
      "8  0.000000  4.138437e-07   0.000117   0.0             0.0     0.0  0.0   \n",
      "\n",
      "   num_failed_logins  logged_in  num_compromised  ...  flag_RSTO  flag_RSTOS0  \\\n",
      "0               0.00        0.0              0.0  ...        0.0          0.0   \n",
      "2               0.00        0.0              0.0  ...        0.0          0.0   \n",
      "3               0.00        0.0              0.0  ...        1.0          0.0   \n",
      "6               0.25        0.0              0.0  ...        0.0          0.0   \n",
      "8               0.25        0.0              0.0  ...        0.0          0.0   \n",
      "\n",
      "   flag_RSTR  flag_S0  flag_S1  flag_S2  flag_S3  flag_SF  flag_SH  label  \n",
      "0        0.0      0.0      0.0      0.0      0.0      0.0      0.0    DoS  \n",
      "2        0.0      0.0      0.0      0.0      0.0      1.0      0.0  Probe  \n",
      "3        0.0      0.0      0.0      0.0      0.0      0.0      0.0  Probe  \n",
      "6        0.0      0.0      0.0      0.0      0.0      1.0      0.0    R2L  \n",
      "8        0.0      0.0      0.0      0.0      0.0      1.0      0.0    R2L  \n",
      "\n",
      "[5 rows x 113 columns]\n"
     ]
    }
   ],
   "source": [
    "check_dataset(test_dataset, mode='head')"
   ]
  }
 ],
 "metadata": {
  "kernelspec": {
   "display_name": "Python 3",
   "language": "python",
   "name": "python3"
  },
  "language_info": {
   "codemirror_mode": {
    "name": "ipython",
    "version": 3
   },
   "file_extension": ".py",
   "mimetype": "text/x-python",
   "name": "python",
   "nbconvert_exporter": "python",
   "pygments_lexer": "ipython3",
   "version": "3.10.6"
  }
 },
 "nbformat": 4,
 "nbformat_minor": 5
}
