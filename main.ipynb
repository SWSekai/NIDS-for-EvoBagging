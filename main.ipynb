{
 "cells": [
  {
   "cell_type": "code",
   "execution_count": 200,
   "id": "9e8fa143",
   "metadata": {},
   "outputs": [],
   "source": [
    "import pandas as pd"
   ]
  },
  {
   "cell_type": "code",
   "execution_count": 201,
   "id": "0c57a3cb",
   "metadata": {},
   "outputs": [],
   "source": [
    "def check_dataset(dataset, mode='shape'):\n",
    "    if mode == 'info':\n",
    "        print(dataset.info())\n",
    "    elif mode == 'head':\n",
    "        print(dataset.head())\n",
    "    elif mode == 'shape':\n",
    "        print(f\"{dataset.shape}\")\n",
    "    else:\n",
    "        raise ValueError(\"Invalid mode. Use 'info', 'head' or 'shape'.\")"
   ]
  },
  {
   "cell_type": "code",
   "execution_count": 202,
   "id": "32418584",
   "metadata": {},
   "outputs": [],
   "source": [
    "# one-hot encoding\n",
    "\n",
    "def one_hot_encoding(data):\n",
    "    non_numerial_columns = ['protocol_type', 'service', 'flag']\n",
    "    data_encoded = pd.get_dummies(data, columns=non_numerial_columns, drop_first=True, dtype=int) # drop first: 忽略資料標題\n",
    "    \n",
    "    return data_encoded"
   ]
  },
  {
   "cell_type": "code",
   "execution_count": 203,
   "id": "9d471e46",
   "metadata": {},
   "outputs": [],
   "source": [
    "# Normalization\n",
    "\n",
    "from sklearn.preprocessing import MinMaxScaler\n",
    "\n",
    "def normalization(data):\n",
    "    scaler = MinMaxScaler()\n",
    "    \n",
    "    features = data.drop(columns=['label'])\n",
    "    \n",
    "    feature_encoded = pd.DataFrame(scaler.fit_transform(features),\n",
    "                                   columns=features.columns,\n",
    "                                   index=features.index)\n",
    "    \n",
    "    data = pd.concat([feature_encoded, data['label']], axis=1)\n",
    "    \n",
    "    return data"
   ]
  },
  {
   "cell_type": "code",
   "execution_count": 204,
   "id": "d52e5b18",
   "metadata": {},
   "outputs": [],
   "source": [
    "def change_label(df):\n",
    "    \"\"\"\n",
    "        將 label 轉換成 5 類別：\n",
    "        DoS, R2L, Probe, U2R, Normal\n",
    "    \"\"\"\n",
    "    df = df.copy()\n",
    "    \n",
    "    df['label'] = df.label.replace([\n",
    "        'apache2','back','land','neptune','mailbomb','pod','processtable',\n",
    "        'smurf','teardrop','udpstorm','worm'\n",
    "    ], 'DoS')\n",
    "\n",
    "    df['label'] = df.label.replace([\n",
    "        'ftp_write','guess_passwd','httptunnel','imap','multihop','named',\n",
    "        'phf','sendmail','snmpgetattack','snmpguess','spy','warezclient',\n",
    "        'warezmaster','xlock','xsnoop'\n",
    "    ], 'R2L')      \n",
    "\n",
    "    df['label'] = df.label.replace([\n",
    "        'ipsweep','mscan','nmap','portsweep','saint','satan'\n",
    "    ], 'Probe')\n",
    "\n",
    "    df['label'] = df.label.replace([\n",
    "        'buffer_overflow','loadmodule','perl','ps','rootkit','sqlattack','xterm'\n",
    "    ], 'U2R')\n",
    "\n",
    "    # 其餘未列入的視為 'Normal'\n",
    "    df['label'] = df.label.where(df.label.isin(['DoS', 'R2L', 'Probe', 'U2R']), 'Normal')\n",
    "    \n",
    "    return df\n"
   ]
  },
  {
   "cell_type": "code",
   "execution_count": 205,
   "id": "2f0ecfde",
   "metadata": {},
   "outputs": [],
   "source": [
    "import matplotlib.pyplot as plt\n",
    "\n",
    "def label_distribution(train_dataset, test_dataset):\n",
    "    \"\"\"\n",
    "        繪製資料集的標籤分佈圖\n",
    "    \"\"\"\n",
    "    train_counts = train_dataset['label'].value_counts()\n",
    "    test_counts = test_dataset['label'].value_counts()\n",
    "    \n",
    "    combined  = pd.DataFrame({\n",
    "        'Train': train_counts,\n",
    "        'Test': test_counts\n",
    "    }).fillna(0) # 若某些 label 在其中一個資料集中缺少，填 0\n",
    "    \n",
    "    # 自訂排序\n",
    "    order = ['Normal', 'DoS', 'Probe', 'R2L', 'U2R']\n",
    "    \n",
    "    combined = combined.reindex(order)\n",
    "    \n",
    "    # 繪製群組直方圖\n",
    "    combined.plot(kind='bar', figsize=(12, 6))\n",
    "    plt.title('NSL-KDD Train vs Test Label Distribution')\n",
    "    plt.xlabel('Label')\n",
    "    plt.ylabel('Count')\n",
    "    plt.xticks(rotation=0) \n",
    "    plt.legend(title='Dataset')\n",
    "    plt.tight_layout()\n",
    "    plt.show()"
   ]
  },
  {
   "cell_type": "code",
   "execution_count": 206,
   "id": "c57cada1",
   "metadata": {},
   "outputs": [],
   "source": [
    "columns = (['duration'\n",
    ",'protocol_type'\n",
    ",'service'\n",
    ",'flag'\n",
    ",'src_bytes'\n",
    ",'dst_bytes'\n",
    ",'land'\n",
    ",'wrong_fragment'\n",
    ",'urgent'\n",
    ",'hot'\n",
    ",'num_failed_logins'\n",
    ",'logged_in'\n",
    ",'num_compromised'\n",
    ",'root_shell'\n",
    ",'su_attempted'\n",
    ",'num_root'\n",
    ",'num_file_creations'\n",
    ",'num_shells'\n",
    ",'num_access_files'\n",
    ",'num_outbound_cmds'\n",
    ",'is_host_login'\n",
    ",'is_guest_login'\n",
    ",'count'\n",
    ",'srv_count'\n",
    ",'serror_rate'\n",
    ",'srv_serror_rate'\n",
    ",'rerror_rate'\n",
    ",'srv_rerror_rate'\n",
    ",'same_srv_rate'\n",
    ",'diff_srv_rate'\n",
    ",'srv_diff_host_rate'\n",
    ",'dst_host_count'\n",
    ",'dst_host_srv_count'\n",
    ",'dst_host_same_srv_rate'\n",
    ",'dst_host_diff_srv_rate'\n",
    ",'dst_host_same_src_port_rate'\n",
    ",'dst_host_srv_diff_host_rate'\n",
    ",'dst_host_serror_rate'\n",
    ",'dst_host_srv_serror_rate'\n",
    ",'dst_host_rerror_rate'\n",
    ",'dst_host_srv_rerror_rate'\n",
    ",'label'\n",
    ",'level'])\n"
   ]
  },
  {
   "cell_type": "code",
   "execution_count": 207,
   "id": "5f06feae",
   "metadata": {},
   "outputs": [
    {
     "name": "stdout",
     "output_type": "stream",
     "text": [
      "(125972, 42)\n",
      "(22542, 42)\n"
     ]
    }
   ],
   "source": [
    "# 載入NSL-KDD資料集\n",
    "\n",
    "# 訓練資料集讀取\n",
    "train_dataset = pd.read_csv('C:/Users/hansc/OneDrive/School/專題製作/Code/NSL-KDD Dataset/KDDTrain+.csv', encoding='utf-8')\n",
    "train_dataset.columns = columns\n",
    "train_dataset = train_dataset.drop(columns=['level']) # 去除 level 欄位\n",
    "train_dataset_header = list(train_dataset.columns) \n",
    "train_dataset = pd.DataFrame(data=train_dataset, columns=train_dataset_header)\n",
    "\n",
    "# 測試資料集讀取\n",
    "test_dataset = pd.read_csv('C:/Users/hansc/OneDrive/School/專題製作/Code/NSL-KDD Dataset/KDDTest+.csv', encoding='utf-8')\n",
    "test_dataset.columns = columns\n",
    "test_dataset = test_dataset.drop(columns=['level']) # 去除 level 欄位\n",
    "test_dataset_header = list(test_dataset.columns)\n",
    "test_dataset = pd.DataFrame(data=test_dataset, columns=test_dataset_header)\n",
    "\n",
    "check_dataset(train_dataset)\n",
    "check_dataset(test_dataset)"
   ]
  },
  {
   "cell_type": "code",
   "execution_count": 208,
   "id": "2c393e06",
   "metadata": {},
   "outputs": [
    {
     "name": "stdout",
     "output_type": "stream",
     "text": [
      "(125972, 120)\n",
      "(22542, 113)\n"
     ]
    }
   ],
   "source": [
    "train_dataset = one_hot_encoding(train_dataset)\n",
    "test_dataset = one_hot_encoding(test_dataset)\n",
    "\n",
    "check_dataset(train_dataset)\n",
    "check_dataset(test_dataset)"
   ]
  },
  {
   "cell_type": "code",
   "execution_count": 209,
   "id": "2ed33732",
   "metadata": {},
   "outputs": [],
   "source": [
    "# Normalization\n",
    "\n",
    "train_dataset = normalization(train_dataset)\n",
    "test_dataset = normalization(test_dataset)"
   ]
  },
  {
   "cell_type": "code",
   "execution_count": 210,
   "id": "75f267f2",
   "metadata": {},
   "outputs": [
    {
     "data": {
      "image/png": "[encoded data removed]",
      "text/plain": [
       "<Figure size 1200x600 with 1 Axes>"
      ]
     },
     "metadata": {},
     "output_type": "display_data"
    }
   ],
   "source": [
    "# Label Change\n",
    "import matplotlib.pyplot as plt\n",
    "\n",
    "train_dataset = change_label(train_dataset)\n",
    "test_dataset = change_label(test_dataset)\n",
    "\n",
    "# train_dataset['label'].value_counts()\n",
    "# test_dataset['label'].value_counts()\n",
    "\n",
    "label_distribution(train_dataset, test_dataset)"
   ]
  },
  {
   "cell_type": "code",
   "execution_count": 211,
   "id": "cbc39ccd",
   "metadata": {},
   "outputs": [
    {
     "data": {
      "image/png": "[encoded data removed]",
      "text/plain": [
       "<Figure size 1200x600 with 1 Axes>"
      ]
     },
     "metadata": {},
     "output_type": "display_data"
    }
   ],
   "source": [
    "# Drop Normal data\n",
    "\n",
    "train_dataset = train_dataset[train_dataset['label'] != 'Normal']\n",
    "test_dataset = test_dataset[test_dataset['label'] != 'Normal']\n",
    "\n",
    "label_distribution(train_dataset, test_dataset)"
   ]
  },
  {
   "cell_type": "code",
   "execution_count": 212,
   "id": "79025964",
   "metadata": {},
   "outputs": [],
   "source": [
    "# from imblearn.over_sampling import ADASYN\n",
    "\n",
    "# oversampler = ADASYN() # sampling_strategy: 欲平衡的類別比例, random_state: 隨機種子, n_neighbors: 近鄰數量"
   ]
  },
  {
   "cell_type": "code",
   "execution_count": 213,
   "id": "22dd8c50",
   "metadata": {},
   "outputs": [],
   "source": [
    "# from imblearn.under_sampling import TomekLinks\n",
    "\n",
    "# undersampler = TomekLinks(sampling_strategy='majority', random_state=42)"
   ]
  },
  {
   "cell_type": "code",
   "execution_count": 214,
   "id": "db550a5f",
   "metadata": {},
   "outputs": [
    {
     "name": "stdout",
     "output_type": "stream",
     "text": [
      "   duration  src_bytes  dst_bytes  land  ...  flag_S3  flag_SF  flag_SH  label\n",
      "1       0.0        0.0        0.0   0.0  ...      0.0      0.0      0.0    DoS\n",
      "4       0.0        0.0        0.0   0.0  ...      0.0      0.0      0.0    DoS\n",
      "5       0.0        0.0        0.0   0.0  ...      0.0      0.0      0.0    DoS\n",
      "6       0.0        0.0        0.0   0.0  ...      0.0      0.0      0.0    DoS\n",
      "7       0.0        0.0        0.0   0.0  ...      0.0      0.0      0.0    DoS\n",
      "\n",
      "[5 rows x 120 columns]\n"
     ]
    }
   ],
   "source": [
    "check_dataset(train_dataset, mode='head')"
   ]
  },
  {
   "cell_type": "code",
   "execution_count": 215,
   "id": "f8d54b93",
   "metadata": {},
   "outputs": [
    {
     "name": "stdout",
     "output_type": "stream",
     "text": [
      "   duration     src_bytes  dst_bytes  land  ...  flag_S3  flag_SF  flag_SH  label\n",
      "0  0.000000  0.000000e+00   0.000000   0.0  ...      0.0      0.0      0.0    DoS\n",
      "2  0.000000  3.183413e-07   0.000000   0.0  ...      0.0      1.0      0.0  Probe\n",
      "3  0.000017  0.000000e+00   0.000011   0.0  ...      0.0      0.0      0.0  Probe\n",
      "6  0.000000  2.053302e-06   0.000129   0.0  ...      0.0      1.0      0.0    R2L\n",
      "8  0.000000  4.138437e-07   0.000117   0.0  ...      0.0      1.0      0.0    R2L\n",
      "\n",
      "[5 rows x 113 columns]\n"
     ]
    }
   ],
   "source": [
    "check_dataset(test_dataset, mode='head')"
   ]
  }
 ],
 "metadata": {
  "kernelspec": {
   "display_name": "Python 3",
   "language": "python",
   "name": "python3"
  },
  "language_info": {
   "codemirror_mode": {
    "name": "ipython",
    "version": 3
   },
   "file_extension": ".py",
   "mimetype": "text/x-python",
   "name": "python",
   "nbconvert_exporter": "python",
   "pygments_lexer": "ipython3",
   "version": "3.10.6"
  }
 },
 "nbformat": 4,
 "nbformat_minor": 5
}
